{
 "cells": [
  {
   "cell_type": "code",
   "execution_count": 124,
   "id": "3919ed03-6144-404e-90f0-a16e225d6227",
   "metadata": {},
   "outputs": [],
   "source": [
    "import numpy as np\n",
    "import matplotlib.pyplot as plt"
   ]
  },
  {
   "cell_type": "markdown",
   "id": "257c1580-699f-48f5-86f9-0b1d29924d83",
   "metadata": {},
   "source": [
    "# A computational replication of Cohn-Gordon and Bergen (2019)"
   ]
  },
  {
   "cell_type": "markdown",
   "id": "98d5744e-8a4a-407d-b551-3442421b0ddf",
   "metadata": {},
   "source": [
    "## Some utilities"
   ]
  },
  {
   "cell_type": "code",
   "execution_count": 123,
   "id": "2217c92d-30d2-42e8-a534-12780cd77a54",
   "metadata": {},
   "outputs": [],
   "source": [
    "def normalize(arr, ax):\n",
    "    return arr / arr.sum(axis=ax, keepdims=True)\n",
    "\n",
    "def softmax(X, theta = 1.0, axis = None):\n",
    "    \"\"\"\n",
    "    Compute the softmax of each element along an axis of X.\n",
    "\n",
    "    Parameters\n",
    "    ----------\n",
    "    X: ND-Array. Probably should be floats. \n",
    "    theta (optional): float parameter, used as a multiplier\n",
    "        prior to exponentiation. Default = 1.0\n",
    "    axis (optional): axis to compute values along. Default is the \n",
    "        first non-singleton axis.\n",
    "\n",
    "    Returns an array the same size as X. The result will sum to 1\n",
    "    along the specified axis.\n",
    "    \"\"\"\n",
    "\n",
    "    # make X at least 2d\n",
    "    y = np.atleast_2d(X)\n",
    "\n",
    "    # find axis\n",
    "    if axis is None:\n",
    "        axis = next(j[0] for j in enumerate(y.shape) if j[1] > 1)\n",
    "\n",
    "    # multiply y against the theta parameter, \n",
    "    y = y * float(theta)\n",
    "\n",
    "    # subtract the max for numerical stability\n",
    "    y = y - np.expand_dims(np.max(y, axis = axis), axis)\n",
    "\n",
    "    # exponentiate y\n",
    "    y = np.exp(y)\n",
    "\n",
    "    # take the sum along the specified axis\n",
    "    ax_sum = np.expand_dims(np.sum(y, axis = axis), axis)\n",
    "\n",
    "    # finally: divide elementwise\n",
    "    p = y / ax_sum\n",
    "\n",
    "    # flatten if X was 1D\n",
    "    if len(X.shape) == 1: p = p.flatten()\n",
    "\n",
    "    return p"
   ]
  },
  {
   "cell_type": "markdown",
   "id": "1dfd7ce1-d677-4f86-8c4a-f12c6c41a793",
   "metadata": {},
   "source": [
    "## The model in equations"
   ]
  },
  {
   "cell_type": "markdown",
   "id": "1353a71b-1d1c-4020-856b-c19506b9e866",
   "metadata": {},
   "source": [
    "These are the equations describing the model in Cohn-Gordon and Bergen:"
   ]
  },
  {
   "cell_type": "markdown",
   "id": "2a9e84ee-7d01-4256-b882-a018d06c391b",
   "metadata": {},
   "source": [
    "\\begin{align}\n",
    "P_{\\text{channel}}(w' \\mid w, c) &= \\frac{P(w' \\mid c) \\cdot \\delta(w \\neq w')}{\\sum_{w''} P(w'' \\mid c) \\cdot \\delta(w \\neq w'')} \\\\\n",
    "L_0(w \\mid u, c) &\\propto \\|\\mathbf{u}\\|(w) \\cdot P(w \\mid c) \\\\\n",
    "T_{S_1}(u, w, c) &= \\ln(L_0(w \\mid u, c)) \\\\\n",
    "S_1(u \\mid w, c) &\\propto \\exp(T_{S_1}(u, w, c)) \\\\\n",
    "L_1^P(w \\mid u, c) &\\propto (P_{\\text{prt}}(\\text{True}) \\cdot P(w \\mid c) \\cdot \\sum_{w_{\\text{pr}}} P_{\\text{channel}}(w_{\\text{pr}} \\mid w) \\cdot S_1(u \\mid w_{\\text{pr}}, c) ) + P_{\\text{prt}}(\\text{False}) \\cdot P(w \\mid c) \\cdot S_1(u \\mid w, c) \\\\\n",
    "T_{S_2}(u, w, c) &= \\ln(L_1^P(w \\mid u, c)) \\\\\n",
    "S_2(u \\mid w, c) &\\propto \\exp(T_{S_2}(u, w, c)) \\\\\n",
    "L_2(w, c \\mid u) &\\propto P_{\\text{hyp}}(c) \\cdot P(w \\mid c) \\cdot S_2(u \\mid w, c) \\\\\n",
    "T_{S_3}(u, w, c) &= \\ln(L_2(w, c \\mid u)) \\\\\n",
    "S_3(u \\mid w, c) &\\propto \\exp(T_{S_3}(u, w, c))\n",
    "\\end{align}"
   ]
  },
  {
   "cell_type": "markdown",
   "id": "b99e0c16-c533-4b34-8b99-64f1a78e71e9",
   "metadata": {},
   "source": [
    "Where:\n",
    "- $P_{\\text{channel}}$ is the distribution over pretense worlds if a speaker decided to pretend to be in a different world. In this case it's sampled from the prior over world minus the actual world.\n",
    "- $c$ parameterizes the listener's prior over $W$ (the world). In the simple case below, $P(w = T|c = r) = r$.\n",
    "- See the paper for the meaning of the other symbols"
   ]
  },
  {
   "cell_type": "markdown",
   "id": "4147a85b-8dde-4392-89a9-968f43fcd578",
   "metadata": {},
   "source": [
    "## Model implementation"
   ]
  },
  {
   "cell_type": "code",
   "execution_count": 449,
   "id": "7e982142-7d5a-4f15-b3d2-efa2095ce8d9",
   "metadata": {},
   "outputs": [],
   "source": [
    "def run_model(p_prt, hyps, p_hyps):\n",
    "    \"\"\"\n",
    "    Order of the values for various dimensions:\n",
    "    - Utterance: [No, Yes]\n",
    "    - States: [False, True]\n",
    "    - Pretence values: [Pretend, Do not pretend]\n",
    "    - c values: increasing probability of true state\n",
    "\n",
    "    Parameters\n",
    "    ----------\n",
    "    p_prt: float\n",
    "        The probability of pretending (to be in the other state)\n",
    "    hyps: array[float]\n",
    "        The possible common ground hypotheses considered by the L2\n",
    "    p_hyps: array[float]\n",
    "        The probability of each common ground hypothesis\n",
    "    \"\"\"\n",
    "    \n",
    "    # shape (c_value, state), encodes probability of each state given each c_value\n",
    "    c_values = np.concatenate((1-hyps[:,None], hyps[:,None]),1)\n",
    "    # (utterance, state)\n",
    "    semantic = np.eye(2,2)\n",
    "\n",
    "    # Encodes the probability of choosing a different state from the true one\n",
    "    # which is just proportional to the state prior.\n",
    "    # Dimensions (pretend state, c value, true state)\n",
    "    p_channel = normalize( \n",
    "        (1-np.eye(2))[:,None,:]*c_values[None,:,:],\n",
    "        (0)\n",
    "    )\n",
    "\n",
    "    # (c, utterance, state)\n",
    "    l0 = normalize(\n",
    "        c_values[:,None]*semantic,\n",
    "        (2)\n",
    "    )\n",
    "\n",
    "    # (c value, utterance, state)\n",
    "    t_s1 = np.log(l0)\n",
    "    # (c value, utterance, state)\n",
    "    s1 = softmax(t_s1, 1.0, axis=1)\n",
    "\n",
    "    # (c value, utterance, state)\n",
    "    l1 = normalize(\n",
    "            # Interior of sum has shape (pretend state, c value, utterance, true state)\n",
    "            # Note that the \"state\" value of s1 is moves to the first position\n",
    "            # because it is taken to be the *pretend* state\n",
    "            p_prt*c_values[:,None,:]*(p_channel[:,:,None,:]*np.moveaxis(s1,0,1)[:,:,:,None]).sum(0)+\n",
    "        (1-p_prt)*c_values[:,None,:]*s1,\n",
    "        2\n",
    "    )\n",
    "\n",
    "    # (c value, utterance, state)\n",
    "    t_s2 = np.log(l1)\n",
    "    s2 = softmax(t_s2, 1.0, axis=1)\n",
    "\n",
    "    # (c value, utterance, state)\n",
    "    l2 = normalize(\n",
    "        p_hyps[:,None,None]*c_values[:,None,:]*s2,\n",
    "        (0,2)\n",
    "    )\n",
    "\n",
    "    # (c value, utterance, state)\n",
    "    t_s3 = np.log(l2)\n",
    "    s3 = softmax(t_s3, 1.0, axis=1)\n",
    "    \n",
    "    return l0, s1, l1, s2, l2, s3"
   ]
  },
  {
   "cell_type": "markdown",
   "id": "29f3055f-aa5e-457f-a2ac-f1fcf5b00c1e",
   "metadata": {},
   "source": [
    "## Toy case from the paper"
   ]
  },
  {
   "cell_type": "markdown",
   "id": "9e0fbd0b-c5b9-4eaa-a215-325332627b13",
   "metadata": {},
   "source": [
    "Here are the parameters involved:"
   ]
  },
  {
   "cell_type": "markdown",
   "id": "aae70d00-1c11-4517-b388-8bd35801d5f6",
   "metadata": {},
   "source": [
    "- $ W : \\{T, F\\} $\n",
    "- $ U : \\{\\text{Yes}, \\text{No}\\} $\n",
    "- $\\text{Prior}_w : \\{T : 0.8, F : 0.2\\}$\n",
    "- $P_{\\text{prt}} : \\{\\text{pretense} = \\text{True} : 0.1, \\text{pretense} = \\text{False} : 0.9\\}$\n",
    "- $\\|\\cdot\\| = \\{\\langle\\text{Yes}, T\\rangle, \\langle\\text{No}, F\\rangle\\}$"
   ]
  },
  {
   "cell_type": "markdown",
   "id": "ab904463-bb1c-4b08-810b-54ed8c925acd",
   "metadata": {},
   "source": [
    "Example of run and output:"
   ]
  },
  {
   "cell_type": "code",
   "execution_count": 448,
   "id": "65c14d00-16fc-4a79-a7ce-c13f0880b743",
   "metadata": {},
   "outputs": [
    {
     "name": "stderr",
     "output_type": "stream",
     "text": [
      "/tmp/ipykernel_919/4210871677.py:39: RuntimeWarning: divide by zero encountered in log\n",
      "  t_s1 = np.log(l0)\n"
     ]
    }
   ],
   "source": [
    "p_prt = 0.1\n",
    "# possible common grounds over which L2 has uncertainty\n",
    "hyps = np.array([0.90, 0.99])\n",
    "# L2's prior probability of each common ground\n",
    "p_hyps = np.array([0.5, 0.5])\n",
    "\n",
    "l0, s1, l1, s2, l2, s3 = run_model(p_prt, hyps, p_hyps)"
   ]
  },
  {
   "cell_type": "markdown",
   "id": "46ad62f1-2d2a-4fc3-b94a-4449273fcefb",
   "metadata": {},
   "source": [
    "`semantic` is trivial because there are only two states, e.g.:\n",
    "```\n",
    "array([[1., 0.],\n",
    "       [0., 1.]])\n",
    "```\n",
    "\n",
    "p_channel is also trivial e.g., `p_channel[:,1,1]=array([1., 0.])`.\n",
    "\n",
    "\n",
    "`l0` is similarly trivial e.g., `l0[0,1]=l0[0,1]`, and same for `s1`."
   ]
  },
  {
   "cell_type": "markdown",
   "id": "9c9eb734-d079-4b75-af39-4f582e7d9778",
   "metadata": {},
   "source": [
    "### Figure 1"
   ]
  },
  {
   "cell_type": "code",
   "execution_count": 419,
   "id": "cf0a7321-22b4-401e-9888-024a24ca3a68",
   "metadata": {},
   "outputs": [
    {
     "name": "stderr",
     "output_type": "stream",
     "text": [
      "/tmp/ipykernel_919/2120696048.py:23: RuntimeWarning: divide by zero encountered in log\n",
      "  t_s1 = np.log(l0)\n"
     ]
    },
    {
     "data": {
      "text/plain": [
       "[Text(0, 0, 'T'), Text(1, 0, 'F')]"
      ]
     },
     "execution_count": 419,
     "metadata": {},
     "output_type": "execute_result"
    },
    {
     "data": {
      "image/png": "[encoded data removed]",
      "text/plain": [
       "<Figure size 500x200 with 2 Axes>"
      ]
     },
     "metadata": {},
     "output_type": "display_data"
    }
   ],
   "source": [
    "fig, (ax1,ax2) = plt.subplots(1,2, sharey=True, sharex=True, figsize=(5,2))\n",
    "\n",
    "hyps = np.array([0.80, 0.99])\n",
    "p_hyps = np.array([0.5, 0.5])\n",
    "l0, s1, l1, s2, l2, s3 = run_model(p_prt, hyps, p_hyps)\n",
    "\n",
    "ax1.bar([1,0],l1[0,0], color=['darkred','blue'])\n",
    "ax2.bar([1,0],l1[0,1], color=['darkred','blue'])\n",
    "\n",
    "ax1.set_ylim(0,1)\n",
    "ax1.set_xticks([0,1])\n",
    "ax1.set_xticklabels(['T','F'])"
   ]
  },
  {
   "cell_type": "markdown",
   "id": "b0f711fc-700b-42c7-9b8b-36687bc53f52",
   "metadata": {},
   "source": [
    "### Figure 4"
   ]
  },
  {
   "cell_type": "code",
   "execution_count": 421,
   "id": "74f90450-50f9-4e2c-91eb-124f10e9784d",
   "metadata": {},
   "outputs": [
    {
     "name": "stderr",
     "output_type": "stream",
     "text": [
      "/tmp/ipykernel_919/2120696048.py:23: RuntimeWarning: divide by zero encountered in log\n",
      "  t_s1 = np.log(l0)\n"
     ]
    },
    {
     "data": {
      "text/plain": [
       "<BarContainer object of 4 artists>"
      ]
     },
     "execution_count": 421,
     "metadata": {},
     "output_type": "execute_result"
    },
    {
     "data": {
      "image/png": "[encoded data removed]",
      "text/plain": [
       "<Figure size 800x250 with 3 Axes>"
      ]
     },
     "metadata": {},
     "output_type": "display_data"
    }
   ],
   "source": [
    "fig, (ax1, ax2, ax3) = plt.subplots(1,3,sharey=True,sharex=True, figsize=(8,2.5))\n",
    "\n",
    "hyps = np.array([0.9, 0.99])\n",
    "p_hyps = np.array([0.5, 0.5])\n",
    "l0, s1, l1, s2, l2, s3 = run_model(p_prt, hyps, p_hyps)\n",
    "\n",
    "x_values = [0.,0.2, 0.6,0.8]\n",
    "color=['blue','darkred','blue','darkred']\n",
    "\n",
    "ax1.set_ylim(0,0.6)\n",
    "ax1.set_xticks([0.1, 0.7])\n",
    "ax1.set_xticklabels(['T', 'F'])\n",
    "\n",
    "ax1.bar(\n",
    "    x_values,\n",
    "    normalize(np.array([hyps[1], hyps[0], 1-hyps[1], 1-hyps[0]]),0),\n",
    "    width=0.2,\n",
    "    color=color\n",
    ")\n",
    "\n",
    "ax2.bar(\n",
    "    x_values,\n",
    "    [l2[1,1,1], l2[0,1,1], l2[1,1,0], l2[0,1,0]],\n",
    "    width=0.2,\n",
    "    color=color\n",
    ")\n",
    "\n",
    "ax3.bar(\n",
    "    x_values,\n",
    "    [l2[1,0,1], l2[0,0,1], l2[1,0,0], l2[0,0,0]],\n",
    "    width=0.2,\n",
    "    color=color\n",
    ")\n"
   ]
  },
  {
   "cell_type": "markdown",
   "id": "115f1a78-560a-4755-9225-1b81f12923d4",
   "metadata": {},
   "source": [
    "## Figure 5"
   ]
  },
  {
   "cell_type": "code",
   "execution_count": 434,
   "id": "3ba96e98-d28f-433c-9844-ed8f6c528ab4",
   "metadata": {},
   "outputs": [
    {
     "name": "stderr",
     "output_type": "stream",
     "text": [
      "/tmp/ipykernel_919/2120696048.py:23: RuntimeWarning: divide by zero encountered in log\n",
      "  t_s1 = np.log(l0)\n"
     ]
    }
   ],
   "source": [
    "hyps = np.linspace(0.001, 0.999, 10000)\n",
    "p_hyps = np.ones_like(hyps) / len(hyps)\n",
    "l0, s1, l1, s2, l2, s3 = run_model(p_prt, hyps, p_hyps)"
   ]
  },
  {
   "cell_type": "code",
   "execution_count": 436,
   "id": "853ef649-bd21-4de5-bf81-ed4d825a7465",
   "metadata": {},
   "outputs": [],
   "source": [
    "line_false, line_true = l2[:,0,:].T"
   ]
  },
  {
   "cell_type": "markdown",
   "id": "cc773e7f-d689-4b69-9ea3-b37b3484a239",
   "metadata": {},
   "source": [
    "> NOTE: Differently from the paper, we don't see the bimodality for the curve w=T. Where's the difference coming from?"
   ]
  },
  {
   "cell_type": "code",
   "execution_count": 444,
   "id": "2e5e4f9b-d37f-4793-9cbc-efa348dba131",
   "metadata": {},
   "outputs": [
    {
     "data": {
      "text/plain": [
       "<matplotlib.legend.Legend at 0x7fafad4abb80>"
      ]
     },
     "execution_count": 444,
     "metadata": {},
     "output_type": "execute_result"
    },
    {
     "data": {
      "image/png": "[encoded data removed]",
      "text/plain": [
       "<Figure size 640x480 with 1 Axes>"
      ]
     },
     "metadata": {},
     "output_type": "display_data"
    }
   ],
   "source": [
    "plt.plot(line_true, label='w=T', color='orange')\n",
    "plt.plot(line_false, label='w=F', color='b')\n",
    "plt.legend()"
   ]
  }
 ],
 "metadata": {
  "kernelspec": {
   "display_name": "argumentative_language",
   "language": "python",
   "name": "argumentative_language"
  },
  "language_info": {
   "codemirror_mode": {
    "name": "ipython",
    "version": 3
   },
   "file_extension": ".py",
   "mimetype": "text/x-python",
   "name": "python",
   "nbconvert_exporter": "python",
   "pygments_lexer": "ipython3",
   "version": "3.8.16"
  }
 },
 "nbformat": 4,
 "nbformat_minor": 5
}
